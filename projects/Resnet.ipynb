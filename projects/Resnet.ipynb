{
 "cells": [
  {
   "cell_type": "code",
   "execution_count": 0,
   "metadata": {
    "colab": {},
    "colab_type": "code",
    "id": "9ayCuyPpcT5H"
   },
   "outputs": [],
   "source": [
    "import copy\n",
    "import numpy as np\n",
    "import torch\n",
    "import torch.nn as nn\n",
    "import torch.nn.functional as F\n",
    "import torchvision\n",
    "import torchvision.transforms as transforms"
   ]
  },
  {
   "cell_type": "code",
   "execution_count": 2,
   "metadata": {
    "colab": {
     "base_uri": "https://localhost:8080/",
     "height": 35
    },
    "colab_type": "code",
    "id": "0NiETdfjcfal",
    "outputId": "9a8077c9-6b9f-47f7-c3e7-53997293ffcf"
   },
   "outputs": [
    {
     "name": "stdout",
     "output_type": "stream",
     "text": [
      "Drive already mounted at /content/drive; to attempt to forcibly remount, call drive.mount(\"/content/drive\", force_remount=True).\n"
     ]
    }
   ],
   "source": [
    "from google.colab import drive\n",
    "drive.mount('/content/drive')"
   ]
  },
  {
   "cell_type": "markdown",
   "metadata": {
    "colab_type": "text",
    "id": "xBjkhyVYcT5M"
   },
   "source": [
    "# PyTorch\n",
    "In this notebook you will gain some hands-on experience with [PyTorch](https://pytorch.org/), one of the major frameworks for deep learning. To install PyTorch run `conda install pytorch torchvision cudatoolkit=10.1 -c pytorch`, with cudatoolkit set to whichever CUDA version you have installed. You can check this by running `nvcc --version`. If you do not have an Nvidia GPU you can run `conda install pytorch torchvision cpuonly -c pytorch` instead. However, in this case we recommend using [Google Colab](https://colab.research.google.com/).\n",
    "\n",
    "You will start by re-implementing some common features of deep neural networks (dropout and batch normalization) and then implement a very popular modern architecture for image classification (ResNet) and improve its training loop."
   ]
  },
  {
   "cell_type": "markdown",
   "metadata": {
    "colab_type": "text",
    "id": "nmtxSTDCcT5N"
   },
   "source": [
    "# 1. Dropout\n",
    "Dropout is a form of regularization for neural networks. It works by randomly setting activations (values) to 0, each one with equal probability `p`. The values are then scaled by a factor $\\frac{1}{1-p}$ to conserve their mean.\n",
    "\n",
    "Dropout effectively trains a pseudo-ensemble of models with stochastic gradient descent. During evaluation we want to use the full ensemble and therefore have to turn off dropout. Use `self.training` to check if the model is in training or evaluation mode.\n",
    "\n",
    "Do not use any dropout implementation from PyTorch for this!"
   ]
  },
  {
   "cell_type": "code",
   "execution_count": 0,
   "metadata": {
    "colab": {},
    "colab_type": "code",
    "id": "tSVK_k6zcT5O"
   },
   "outputs": [],
   "source": [
    "class Dropout(nn.Module):\n",
    "    \"\"\"\n",
    "    Dropout, as discussed in the lecture and described here:\n",
    "    https://pytorch.org/docs/stable/nn.html#torch.nn.Dropout\n",
    "    \n",
    "    Args:\n",
    "        p: float, dropout probability\n",
    "    \"\"\"\n",
    "    def __init__(self, p):\n",
    "        super().__init__()\n",
    "        self.p = p\n",
    "        \n",
    "    def forward(self, inputs):\n",
    "        \"\"\"\n",
    "        The module's forward pass.\n",
    "        This has to be implemented for every PyTorch module.\n",
    "        PyTorch then automatically generates the backward pass\n",
    "        by dynamically generating the computational graph during\n",
    "        execution.\n",
    "        \n",
    "        Args:\n",
    "            input: PyTorch tensor, arbitrary shape\n",
    "\n",
    "        Returns:\n",
    "            PyTorch tensor, same shape as input\n",
    "        \"\"\"\n",
    "        \n",
    "        # TODO: Set values randomly to 0.\n",
    "        mask = (torch.rand(*inputs.shape)<self.p)/(1-self.p)\n",
    "        out = mask * inputs\n",
    "        return out"
   ]
  },
  {
   "cell_type": "code",
   "execution_count": 0,
   "metadata": {
    "colab": {},
    "colab_type": "code",
    "id": "BK6ljwyucT5Q"
   },
   "outputs": [],
   "source": [
    "# Test dropout\n",
    "test = torch.ones(10_000)\n",
    "dropout = Dropout(0.5)\n",
    "test_dropped = dropout(test)\n",
    "\n",
    "# These assertions can in principle fail due to bad luck, but\n",
    "# if implemented correctly they should almost always succeed.\n",
    "assert np.isclose(test_dropped.sum().item(), 10_000, atol=400)\n",
    "assert np.isclose((test_dropped > 0).sum().item(), 5_000, atol=200)"
   ]
  },
  {
   "cell_type": "markdown",
   "metadata": {
    "colab_type": "text",
    "id": "YQwKlAw0cT5U"
   },
   "source": [
    "# 2. Batch normalization\n",
    "Batch normalization is a trick use to smoothen the loss landscape and improve training. It is defined as the function\n",
    "$$y = \\frac{x - \\mu_x}{\\sigma_x + \\epsilon} \\cdot \\gamma + \\beta$$,\n",
    "where $\\gamma$ and $\\beta$ and learnable parameters and $\\epsilon$ is a some small number to avoid dividing by zero. The Statistics $\\mu_x$ and $\\sigma_x$ are taken separately for each feature. In a CNN this means averaging over the batch and all pixels.\n",
    "\n",
    "Do not use any batch normalization implementation from PyTorch for this!"
   ]
  },
  {
   "cell_type": "code",
   "execution_count": 0,
   "metadata": {
    "colab": {},
    "colab_type": "code",
    "id": "5UO6PxdGcT5V"
   },
   "outputs": [],
   "source": [
    "class BatchNorm(nn.Module):\n",
    "    \"\"\"\n",
    "    Batch normalization, as discussed in the lecture and similar to\n",
    "    https://pytorch.org/docs/stable/nn.html#torch.nn.BatchNorm1d\n",
    "    \n",
    "    Only uses batch statistics (no running mean for evaluation).\n",
    "    Batch statistics are calculated for a single dimension.\n",
    "    Gamma is initialized as 1, beta as 0.\n",
    "    \n",
    "    Args:\n",
    "        num_features: Number of features to calculate batch statistics for.\n",
    "    \"\"\"\n",
    "    def __init__(self, num_features):\n",
    "        super().__init__()\n",
    "        \n",
    "        # TODO: Initialize the required parameters\n",
    "        self.gamma = nn.Parameter(torch.ones(num_features))\n",
    "        self.beta = nn.Parameter(torch.zeros(num_features))\n",
    "        \n",
    "    def forward(self, x):\n",
    "        \"\"\"\n",
    "        Batch normalization over the dimension C of (N, C, L).\n",
    "        \n",
    "        Args:\n",
    "            input: PyTorch tensor, shape [N, C, L]\n",
    "            \n",
    "        Return:\n",
    "            PyTorch tensor, same shape as input\n",
    "        \"\"\"\n",
    "        eps = 1e-5\n",
    "        \n",
    "        # TODO: Implement the required transformation\n",
    "        sample_mean=torch.mean(x,dim=(0,2),keepdim=True)\n",
    "        sample_var=torch.var(x,dim=(0,2),keepdim=True)\n",
    "        x_hat=(x-sample_mean)/torch.sqrt(sample_var+eps)\n",
    "        x_hat=x_hat.permute(0,2,1)\n",
    "        out = self.gamma*x_hat+self.beta\n",
    "        return out.permute(0,2,1)"
   ]
  },
  {
   "cell_type": "code",
   "execution_count": 0,
   "metadata": {
    "colab": {},
    "colab_type": "code",
    "id": "u9dB_ZfDcT5X"
   },
   "outputs": [],
   "source": [
    "# Tests the batch normalization implementation\n",
    "torch.random.manual_seed(42)\n",
    "test = torch.randn(8, 2, 4)\n",
    "\n",
    "b1 = BatchNorm(2)\n",
    "test_b1 = b1(test)\n",
    "\n",
    "b2 = nn.BatchNorm1d(2, affine=False, track_running_stats=False)\n",
    "test_b2 = b2(test)\n",
    "\n",
    "assert torch.allclose(test_b1, test_b2, rtol=0.02)"
   ]
  },
  {
   "cell_type": "markdown",
   "metadata": {
    "colab_type": "text",
    "id": "WJQ_Nc1pcT5a"
   },
   "source": [
    "# 3. ResNet\n",
    "ResNet is the models that first introduced residual connections (a form of skip connections). It is a rather simple, but successful and very popular architecture. In this part of the exercise we will re-implement it step by step.\n",
    "\n",
    "Note that there is also an [improved version of ResNet](https://arxiv.org/abs/1603.05027) with optimized residual blocks. Here we will implement the [original version](https://arxiv.org/abs/1512.03385) for CIFAR-10. Your dropout and batchnorm implementations won't help you here. Just use PyTorch's own layers."
   ]
  },
  {
   "cell_type": "markdown",
   "metadata": {
    "colab_type": "text",
    "id": "bBVF0i02cT5b"
   },
   "source": [
    "This is just a convenience function to make e.g. `nn.Sequential` more flexible. It is e.g. useful in combination with `x.squeeze()`."
   ]
  },
  {
   "cell_type": "code",
   "execution_count": 0,
   "metadata": {
    "colab": {},
    "colab_type": "code",
    "id": "7rKlHxq9cT5c"
   },
   "outputs": [],
   "source": [
    "class Lambda(nn.Module):\n",
    "    def __init__(self, func):\n",
    "        super().__init__()\n",
    "        self.func = func\n",
    "\n",
    "    def forward(self, x):\n",
    "        return self.func(x)"
   ]
  },
  {
   "cell_type": "markdown",
   "metadata": {
    "colab_type": "text",
    "id": "aH9fvI0hcT5e"
   },
   "source": [
    "\n",
    "We begin by implementing the residual blocks. The block is illustrated by this sketch:\n",
    "\n",
    "![Residual connection](.\\residual_connection.png)\n",
    "\n",
    "Note that we use 'SAME' padding, no bias, and batch normalization after each convolution. You do not need `nn.Sequential` here. The skip connection is already implemented as `self.skip`. It can handle different strides and increases in the number of channels."
   ]
  },
  {
   "cell_type": "code",
   "execution_count": 0,
   "metadata": {
    "colab": {},
    "colab_type": "code",
    "id": "Kp5Ezou5cT5f"
   },
   "outputs": [],
   "source": [
    "class ResidualBlock(nn.Module):\n",
    "    \"\"\"\n",
    "    The residual block used by ResNet.\n",
    "    \n",
    "    Args:\n",
    "        in_channels: The number of channels (feature maps) of the incoming embedding\n",
    "        out_channels: The number of channels after the first convolution\n",
    "        stride: Stride size of the first convolution, used for downsampling\n",
    "    \"\"\"\n",
    "    \n",
    "    def __init__(self, in_channels, out_channels, stride=1):\n",
    "        super().__init__()        \n",
    "        if stride > 1 or in_channels != out_channels:\n",
    "            # Add strides in the skip connection and zeros for the new channels.\n",
    "            self.skip = Lambda(lambda x: F.pad(x[:, :, ::stride, ::stride],\n",
    "                                               (0, 0, 0, 0, 0, out_channels - in_channels),\n",
    "                                               mode=\"constant\", value=0))\n",
    "        else:\n",
    "            self.skip = nn.Sequential()\n",
    "            \n",
    "        # TODO: Initialize the required layers\n",
    "        self.layer = nn.Sequential(\n",
    "                nn.Conv2d(in_channels,out_channels,kernel_size=3,stride=stride,padding=1,bias=False),\n",
    "                nn.BatchNorm2d(out_channels),\n",
    "                nn.ReLU(inplace=True),\n",
    "                nn.Conv2d(out_channels,out_channels,kernel_size=3,stride=1,padding=1,bias=False),\n",
    "                nn.BatchNorm2d(out_channels)\n",
    "            )\n",
    "    def forward(self, inputs):\n",
    "        # TODO: Execute the required layers and functions\n",
    "        out = self.layer(inputs)\n",
    "        out += self.skip(inputs)\n",
    "        out = F.relu(out)\n",
    "        return out"
   ]
  },
  {
   "cell_type": "markdown",
   "metadata": {
    "colab_type": "text",
    "id": "EZuTQrkjcT5i"
   },
   "source": [
    "Next we implement a stack of residual blocks for convenience. The first layer in the block is the one changing the number of channels and downsampling. You can use `nn.ModuleList` to use a list of child modules."
   ]
  },
  {
   "cell_type": "code",
   "execution_count": 0,
   "metadata": {
    "colab": {},
    "colab_type": "code",
    "id": "5yNNj-1rcT5i"
   },
   "outputs": [],
   "source": [
    "class ResidualStack(nn.Module):\n",
    "    \"\"\"\n",
    "    A stack of residual blocks.\n",
    "    \n",
    "    Args:\n",
    "        in_channels: The number of channels (feature maps) of the incoming embedding\n",
    "        out_channels: The number of channels after the first layer\n",
    "        stride: Stride size of the first layer, used for downsampling\n",
    "        num_blocks: Number of residual blocks\n",
    "    \"\"\"\n",
    "    \n",
    "    def __init__(self, in_channels, out_channels, stride, num_blocks):\n",
    "        super().__init__()\n",
    "        \n",
    "        # TODO: Initialize the required layers (blocks)\n",
    "        layer = []\n",
    "        layer.append(ResidualBlock(in_channels, out_channels, stride))\n",
    "        for i in range(1,num_blocks):\n",
    "          layer.append(ResidualBlock(out_channels, out_channels))\n",
    "        self.layer = nn.Sequential(*layer)\n",
    "\n",
    "    def forward(self, out):\n",
    "        # TODO: Execute the layers (blocks)\n",
    "        out = self.layer(out)\n",
    "        return out"
   ]
  },
  {
   "cell_type": "markdown",
   "metadata": {
    "colab_type": "text",
    "id": "gWF2ZOJCcT5m"
   },
   "source": [
    "Now we are finally ready to implement the full model! To do this, use the `nn.Sequential` API and carefully read the following paragraph from the paper (Fig. 3 is not important):\n",
    "\n",
    "![ResNet CIFAR10 description](./resnet_cifar10_description.jpg)\n",
    "\n",
    "Note that a convolution layer is always convolution + batch norm + activation (ReLU), that each ResidualBlock contains 2 layers, and that you might have to `squeeze` the embedding before the dense (fully-connected) layer."
   ]
  },
  {
   "cell_type": "code",
   "execution_count": 0,
   "metadata": {
    "colab": {},
    "colab_type": "code",
    "id": "nMrb72ivcT5n"
   },
   "outputs": [],
   "source": [
    "n = 5\n",
    "num_classes = 10\n",
    "\n",
    "# TODO: Implement ResNet via nn.Sequential\n",
    "resnet = nn.Sequential(\n",
    "    nn.Conv2d(3,16,3,1,1),\n",
    "    nn.BatchNorm2d(16),\n",
    "    nn.ReLU(inplace=True),\n",
    "    ResidualStack(16,16,1,n),\n",
    "    ResidualStack(16,32,2,n),\n",
    "    ResidualStack(32,64,2,n),\n",
    "    nn.AvgPool2d(8),\n",
    "    Lambda(lambda x: torch.squeeze(x)),\n",
    "    nn.Linear(64,num_classes,bias=False),\n",
    "    nn.Softmax(dim=1) \n",
    ")"
   ]
  },
  {
   "cell_type": "markdown",
   "metadata": {
    "colab_type": "text",
    "id": "Z-VogunocT5q"
   },
   "source": [
    "Next we need to initialize the weights of our model."
   ]
  },
  {
   "cell_type": "code",
   "execution_count": 0,
   "metadata": {
    "colab": {},
    "colab_type": "code",
    "id": "1Wlx-3kbcT5q"
   },
   "outputs": [],
   "source": [
    "def initialize_weight(module):\n",
    "    if isinstance(module, (nn.Linear, nn.Conv2d)):\n",
    "        nn.init.kaiming_normal_(module.weight, nonlinearity='relu')\n",
    "    elif isinstance(module, nn.BatchNorm2d):\n",
    "        nn.init.constant_(module.weight, 1)\n",
    "        nn.init.constant_(module.bias, 0)\n",
    "        \n",
    "resnet.apply(initialize_weight);"
   ]
  },
  {
   "cell_type": "markdown",
   "metadata": {
    "colab_type": "text",
    "id": "_6Dz7tOZcT5t"
   },
   "source": [
    "# 4. Training\n",
    "So now we have a shiny new model, but that doesn't really help when we can't train it. So that's what we do next.\n",
    "\n",
    "First we need to load the data. Note that we split the official training data into train and validation sets, because you must not look at the test set until you are completely done developing your model and report the final results. Some people don't do this properly, but you should not copy other people's bad habits."
   ]
  },
  {
   "cell_type": "code",
   "execution_count": 0,
   "metadata": {
    "colab": {},
    "colab_type": "code",
    "id": "7MlUR7GecT5u"
   },
   "outputs": [],
   "source": [
    "class CIFAR10Subset(torchvision.datasets.CIFAR10):\n",
    "    \"\"\"\n",
    "    Get a subset of the CIFAR10 dataset, according to the passed indices.\n",
    "    \"\"\"\n",
    "    def __init__(self, *args, idx=None, **kwargs):\n",
    "        super().__init__(*args, **kwargs)\n",
    "        \n",
    "        if idx is None:\n",
    "            return\n",
    "        \n",
    "        self.data = self.data[idx]\n",
    "        targets_np = np.array(self.targets)\n",
    "        self.targets = targets_np[idx].tolist()"
   ]
  },
  {
   "cell_type": "markdown",
   "metadata": {
    "colab_type": "text",
    "id": "RuesapexcT5w"
   },
   "source": [
    "We next define transformations that change the images into PyTorch tensors, standardize the values according to the precomputed mean and standard deviation, and provide data augmentation for the training set."
   ]
  },
  {
   "cell_type": "code",
   "execution_count": 0,
   "metadata": {
    "colab": {},
    "colab_type": "code",
    "id": "tD7wb1aKcT5x"
   },
   "outputs": [],
   "source": [
    "normalize = transforms.Normalize(mean=[0.485, 0.456, 0.406],\n",
    "                                 std=[0.229, 0.224, 0.225])\n",
    "transform_train = transforms.Compose([\n",
    "    transforms.RandomHorizontalFlip(),\n",
    "    transforms.RandomCrop(32, 4),\n",
    "    transforms.ToTensor(),\n",
    "    normalize,\n",
    "])\n",
    "transform_eval = transforms.Compose([\n",
    "    transforms.ToTensor(),\n",
    "    normalize\n",
    "])"
   ]
  },
  {
   "cell_type": "code",
   "execution_count": 14,
   "metadata": {
    "colab": {
     "base_uri": "https://localhost:8080/",
     "height": 107
    },
    "colab_type": "code",
    "id": "LD3WG9W6cT50",
    "outputId": "ac815185-e980-4559-b410-99c2adac851f"
   },
   "outputs": [
    {
     "name": "stderr",
     "output_type": "stream",
     "text": [
      "\r",
      "0it [00:00, ?it/s]"
     ]
    },
    {
     "name": "stdout",
     "output_type": "stream",
     "text": [
      "Downloading https://www.cs.toronto.edu/~kriz/cifar-10-python.tar.gz to ./data/cifar-10-python.tar.gz\n"
     ]
    },
    {
     "name": "stderr",
     "output_type": "stream",
     "text": [
      "170500096it [00:02, 84589274.96it/s]                               \n"
     ]
    },
    {
     "name": "stdout",
     "output_type": "stream",
     "text": [
      "Extracting ./data/cifar-10-python.tar.gz to ./data\n",
      "Files already downloaded and verified\n",
      "Files already downloaded and verified\n"
     ]
    }
   ],
   "source": [
    "ntrain = 45_000\n",
    "train_set = CIFAR10Subset(root='./data', train=True, idx=range(ntrain),\n",
    "                          download=True, transform=transform_train)\n",
    "val_set = CIFAR10Subset(root='./data', train=True, idx=range(ntrain, 50_000),\n",
    "                        download=True, transform=transform_eval)\n",
    "test_set = torchvision.datasets.CIFAR10(root='./data', train=False,\n",
    "                                        download=True, transform=transform_eval)"
   ]
  },
  {
   "cell_type": "code",
   "execution_count": 0,
   "metadata": {
    "colab": {},
    "colab_type": "code",
    "id": "c-XXruRWcT52"
   },
   "outputs": [],
   "source": [
    "dataloaders = {}\n",
    "dataloaders['train'] = torch.utils.data.DataLoader(train_set, batch_size=128,\n",
    "                                                   shuffle=True, num_workers=2,\n",
    "                                                   pin_memory=True)\n",
    "dataloaders['val'] = torch.utils.data.DataLoader(val_set, batch_size=128,\n",
    "                                                 shuffle=False, num_workers=2,\n",
    "                                                 pin_memory=True)\n",
    "dataloaders['test'] = torch.utils.data.DataLoader(test_set, batch_size=128,\n",
    "                                                  shuffle=False, num_workers=2,\n",
    "                                                  pin_memory=True)"
   ]
  },
  {
   "cell_type": "markdown",
   "metadata": {
    "colab_type": "text",
    "id": "j8-r4s3XcT55"
   },
   "source": [
    "Next we push the model to our GPU (if there is one)."
   ]
  },
  {
   "cell_type": "code",
   "execution_count": 0,
   "metadata": {
    "colab": {},
    "colab_type": "code",
    "id": "6bUrJJoYcT56"
   },
   "outputs": [],
   "source": [
    "device = torch.device('cuda') if torch.cuda.is_available() else torch.device('cpu')\n",
    "resnet.to(device);"
   ]
  },
  {
   "cell_type": "markdown",
   "metadata": {
    "colab_type": "text",
    "id": "Xu-BTge6cT58"
   },
   "source": [
    "Next we define a helper method that does one epoch of training or evaluation. We have only defined training here, so you need to implement the necessary changes for evaluation!"
   ]
  },
  {
   "cell_type": "code",
   "execution_count": 0,
   "metadata": {
    "colab": {},
    "colab_type": "code",
    "id": "sIsOu57XcT59"
   },
   "outputs": [],
   "source": [
    "def run_epoch(model, optimizer, dataloader, train):\n",
    "    \"\"\"\n",
    "    Run one epoch of training or evaluation.\n",
    "    \n",
    "    Args:\n",
    "        model: The model used for prediction\n",
    "        optimizer: Optimization algorithm for the model\n",
    "        dataloader: Dataloader providing the data to run our model on\n",
    "        train: Whether this epoch is used for training or evaluation\n",
    "        \n",
    "    Returns:\n",
    "        Loss and accuracy in this epoch.\n",
    "    \"\"\"\n",
    "    # TODO: Change the necessary parts to work correctly during evaluation (train=False)\n",
    "    device = next(model.parameters()).device\n",
    "\n",
    "    epoch_loss = 0.0\n",
    "    epoch_acc = 0.0\n",
    "\n",
    "    # Set model to training mode (for e.g. batch normalization, dropout)\n",
    "    if train:\n",
    "      model.train()\n",
    "\n",
    "      for xb, yb in dataloader:\n",
    "        xb, yb = xb.to(device), yb.to(device)\n",
    "        # zero the parameter gradients\n",
    "        optimizer.zero_grad()\n",
    "\n",
    "        # forward\n",
    "        with torch.set_grad_enabled(True):\n",
    "            pred = model(xb)\n",
    "            loss = F.cross_entropy(pred, yb)\n",
    "            top1 = torch.argmax(pred, dim=1)\n",
    "            ncorrect = torch.sum(top1 == yb)\n",
    "\n",
    "            loss.backward()\n",
    "            optimizer.step()\n",
    "\n",
    "        # statistics\n",
    "        epoch_loss += loss.item()\n",
    "        epoch_acc += ncorrect.item()\n",
    "    else:\n",
    "      model.eval()\n",
    "      for xb, yb in dataloader:\n",
    "        xb, yb = xb.to(device), yb.to(device)\n",
    "\n",
    "        # forward\n",
    "        with torch.set_grad_enabled(True):\n",
    "            pred = model(xb)\n",
    "            loss = F.cross_entropy(pred, yb)\n",
    "            top1 = torch.argmax(pred, dim=1)\n",
    "            ncorrect = torch.sum(top1 == yb)\n",
    "\n",
    "\n",
    "        # statistics\n",
    "        epoch_loss += loss.item()\n",
    "        epoch_acc += ncorrect.item()\n",
    "\n",
    "    epoch_loss /= len(dataloader.dataset)\n",
    "    epoch_acc /= len(dataloader.dataset)\n",
    "    return epoch_loss, epoch_acc"
   ]
  },
  {
   "cell_type": "markdown",
   "metadata": {
    "colab_type": "text",
    "id": "HPMVunHfcT6A"
   },
   "source": [
    "Next we implement a method for fitting (training) our model. For many models early stopping can save a lot of training time. Your task is to add early stopping to the loop (based on validation accuracy). Early stopping usually means exiting the training loop if the validation accuracy hasn't improved for `patience` number of steps. Don't forget to save the best model parameters according to validation accuracy. You will need `copy.deepcopy` and the `state_dict` for this."
   ]
  },
  {
   "cell_type": "code",
   "execution_count": 0,
   "metadata": {
    "colab": {},
    "colab_type": "code",
    "id": "dop643picT6B"
   },
   "outputs": [],
   "source": [
    "def fit(model, optimizer, lr_scheduler, dataloaders, max_epochs, patience):\n",
    "    \"\"\"\n",
    "    Fit the given model on the dataset.\n",
    "    \n",
    "    Args:\n",
    "        model: The model used for prediction\n",
    "        optimizer: Optimization algorithm for the model\n",
    "        lr_scheduler: Learning rate scheduler that improves training\n",
    "                      in late epochs with learning rate decay\n",
    "        dataloaders: Dataloaders for training and validation\n",
    "        max_epochs: Maximum number of epochs for training\n",
    "        patience: Number of epochs to wait with early stopping the\n",
    "                  training if validation loss has decreased\n",
    "                  \n",
    "    Returns:\n",
    "        Loss and accuracy in this epoch.\n",
    "    \"\"\"\n",
    "    \n",
    "    best_acc = 0\n",
    "    curr_patience = 0\n",
    "    PATH = './data'\n",
    "    for epoch in range(max_epochs):\n",
    "      train_loss, train_acc = run_epoch(model, optimizer, dataloaders['train'], train=True)\n",
    "      lr_scheduler.step()\n",
    "      print(f\"Epoch {epoch + 1: >3}/{max_epochs}, train loss: {train_loss:.2e}, accuracy: {train_acc * 100:.2f}%\")\n",
    "\n",
    "      val_loss, val_acc = run_epoch(model, None, dataloaders['val'], train=False)\n",
    "      print(f\"Epoch {epoch + 1: >3}/{max_epochs}, val loss: {val_loss:.2e}, accuracy: {val_acc * 100:.2f}%\")\n",
    "\n",
    "      # TODO: Add early stopping and save the best weights (in best_model_weights)\n",
    "      if val_acc > best_acc:\n",
    "        curr_patience = 0\n",
    "        best_acc = val_acc\n",
    "        torch.save(model.state_dict(),PATH+ 'bestmodel' + '.pth.tar')\n",
    "        best_model_weights = torch.load(PATH + 'bestmodel' + '.pth.tar')\n",
    "      else:\n",
    "        curr_patience += 1\n",
    "      if curr_patience >= patience:\n",
    "          break\n",
    "    \n",
    "    model.load_state_dict(best_model_weights)"
   ]
  },
  {
   "cell_type": "markdown",
   "metadata": {
    "colab_type": "text",
    "id": "xQi98la1cT6L"
   },
   "source": [
    "In most cases you should just use the Adam optimizer for training, because it works well out of the box. However, a well-tuned SGD (with momentum) will in most cases outperform Adam. And since the original paper gives us a well-tuned SGD we will just use that."
   ]
  },
  {
   "cell_type": "code",
   "execution_count": 19,
   "metadata": {
    "colab": {
     "base_uri": "https://localhost:8080/",
     "height": 1000
    },
    "colab_type": "code",
    "id": "ABkl8M-tcT6M",
    "outputId": "13ccb119-17ca-4148-e700-230b2b7a13e0"
   },
   "outputs": [
    {
     "name": "stdout",
     "output_type": "stream",
     "text": [
      "Epoch   1/200, train loss: 1.70e-02, accuracy: 28.20%\n",
      "Epoch   1/200, val loss: 1.73e-02, accuracy: 29.56%\n",
      "Epoch   2/200, train loss: 1.63e-02, accuracy: 36.60%\n",
      "Epoch   2/200, val loss: 1.67e-02, accuracy: 37.26%\n",
      "Epoch   3/200, train loss: 1.59e-02, accuracy: 41.78%\n",
      "Epoch   3/200, val loss: 1.62e-02, accuracy: 43.84%\n",
      "Epoch   4/200, train loss: 1.57e-02, accuracy: 44.91%\n",
      "Epoch   4/200, val loss: 1.59e-02, accuracy: 46.50%\n",
      "Epoch   5/200, train loss: 1.56e-02, accuracy: 46.23%\n",
      "Epoch   5/200, val loss: 1.62e-02, accuracy: 42.56%\n",
      "Epoch   6/200, train loss: 1.55e-02, accuracy: 47.89%\n",
      "Epoch   6/200, val loss: 1.61e-02, accuracy: 44.82%\n",
      "Epoch   7/200, train loss: 1.54e-02, accuracy: 48.96%\n",
      "Epoch   7/200, val loss: 1.59e-02, accuracy: 47.26%\n",
      "Epoch   8/200, train loss: 1.53e-02, accuracy: 49.98%\n",
      "Epoch   8/200, val loss: 1.64e-02, accuracy: 41.54%\n",
      "Epoch   9/200, train loss: 1.53e-02, accuracy: 50.65%\n",
      "Epoch   9/200, val loss: 1.58e-02, accuracy: 49.08%\n",
      "Epoch  10/200, train loss: 1.51e-02, accuracy: 52.70%\n",
      "Epoch  10/200, val loss: 1.56e-02, accuracy: 50.62%\n",
      "Epoch  11/200, train loss: 1.48e-02, accuracy: 57.08%\n",
      "Epoch  11/200, val loss: 1.51e-02, accuracy: 56.40%\n",
      "Epoch  12/200, train loss: 1.47e-02, accuracy: 58.60%\n",
      "Epoch  12/200, val loss: 1.53e-02, accuracy: 54.30%\n",
      "Epoch  13/200, train loss: 1.45e-02, accuracy: 60.85%\n",
      "Epoch  13/200, val loss: 1.50e-02, accuracy: 58.52%\n",
      "Epoch  14/200, train loss: 1.41e-02, accuracy: 65.62%\n",
      "Epoch  14/200, val loss: 1.40e-02, accuracy: 70.94%\n",
      "Epoch  15/200, train loss: 1.37e-02, accuracy: 70.99%\n",
      "Epoch  15/200, val loss: 1.43e-02, accuracy: 67.94%\n",
      "Epoch  16/200, train loss: 1.36e-02, accuracy: 72.66%\n",
      "Epoch  16/200, val loss: 1.46e-02, accuracy: 63.52%\n",
      "Epoch  17/200, train loss: 1.35e-02, accuracy: 73.96%\n",
      "Epoch  17/200, val loss: 1.39e-02, accuracy: 72.76%\n",
      "Epoch  18/200, train loss: 1.34e-02, accuracy: 74.92%\n",
      "Epoch  18/200, val loss: 1.39e-02, accuracy: 72.20%\n",
      "Epoch  19/200, train loss: 1.33e-02, accuracy: 75.68%\n",
      "Epoch  19/200, val loss: 1.39e-02, accuracy: 72.92%\n",
      "Epoch  20/200, train loss: 1.33e-02, accuracy: 76.12%\n",
      "Epoch  20/200, val loss: 1.39e-02, accuracy: 71.92%\n",
      "Epoch  21/200, train loss: 1.32e-02, accuracy: 77.18%\n",
      "Epoch  21/200, val loss: 1.40e-02, accuracy: 70.78%\n",
      "Epoch  22/200, train loss: 1.32e-02, accuracy: 77.53%\n",
      "Epoch  22/200, val loss: 1.38e-02, accuracy: 74.36%\n",
      "Epoch  23/200, train loss: 1.32e-02, accuracy: 77.90%\n",
      "Epoch  23/200, val loss: 1.37e-02, accuracy: 74.22%\n",
      "Epoch  24/200, train loss: 1.31e-02, accuracy: 78.61%\n",
      "Epoch  24/200, val loss: 1.38e-02, accuracy: 73.74%\n",
      "Epoch  25/200, train loss: 1.31e-02, accuracy: 79.38%\n",
      "Epoch  25/200, val loss: 1.40e-02, accuracy: 71.36%\n",
      "Epoch  26/200, train loss: 1.30e-02, accuracy: 79.44%\n",
      "Epoch  26/200, val loss: 1.37e-02, accuracy: 74.42%\n",
      "Epoch  27/200, train loss: 1.30e-02, accuracy: 79.64%\n",
      "Epoch  27/200, val loss: 1.36e-02, accuracy: 76.32%\n",
      "Epoch  28/200, train loss: 1.30e-02, accuracy: 80.29%\n",
      "Epoch  28/200, val loss: 1.35e-02, accuracy: 78.18%\n",
      "Epoch  29/200, train loss: 1.30e-02, accuracy: 80.26%\n",
      "Epoch  29/200, val loss: 1.35e-02, accuracy: 77.38%\n",
      "Epoch  30/200, train loss: 1.30e-02, accuracy: 79.93%\n",
      "Epoch  30/200, val loss: 1.35e-02, accuracy: 78.18%\n",
      "Epoch  31/200, train loss: 1.29e-02, accuracy: 80.85%\n",
      "Epoch  31/200, val loss: 1.34e-02, accuracy: 78.18%\n",
      "Epoch  32/200, train loss: 1.29e-02, accuracy: 80.78%\n",
      "Epoch  32/200, val loss: 1.33e-02, accuracy: 80.46%\n",
      "Epoch  33/200, train loss: 1.29e-02, accuracy: 81.49%\n",
      "Epoch  33/200, val loss: 1.36e-02, accuracy: 76.52%\n",
      "Epoch  34/200, train loss: 1.29e-02, accuracy: 81.52%\n",
      "Epoch  34/200, val loss: 1.32e-02, accuracy: 80.92%\n",
      "Epoch  35/200, train loss: 1.29e-02, accuracy: 81.58%\n",
      "Epoch  35/200, val loss: 1.33e-02, accuracy: 80.14%\n",
      "Epoch  36/200, train loss: 1.29e-02, accuracy: 81.53%\n",
      "Epoch  36/200, val loss: 1.33e-02, accuracy: 80.62%\n",
      "Epoch  37/200, train loss: 1.29e-02, accuracy: 81.80%\n",
      "Epoch  37/200, val loss: 1.34e-02, accuracy: 79.20%\n",
      "Epoch  38/200, train loss: 1.28e-02, accuracy: 82.53%\n",
      "Epoch  38/200, val loss: 1.33e-02, accuracy: 80.32%\n",
      "Epoch  39/200, train loss: 1.28e-02, accuracy: 82.42%\n",
      "Epoch  39/200, val loss: 1.37e-02, accuracy: 74.60%\n",
      "Epoch  40/200, train loss: 1.28e-02, accuracy: 82.85%\n",
      "Epoch  40/200, val loss: 1.33e-02, accuracy: 80.78%\n",
      "Epoch  41/200, train loss: 1.28e-02, accuracy: 82.58%\n",
      "Epoch  41/200, val loss: 1.32e-02, accuracy: 81.68%\n",
      "Epoch  42/200, train loss: 1.28e-02, accuracy: 82.98%\n",
      "Epoch  42/200, val loss: 1.34e-02, accuracy: 79.06%\n",
      "Epoch  43/200, train loss: 1.28e-02, accuracy: 82.80%\n",
      "Epoch  43/200, val loss: 1.34e-02, accuracy: 78.76%\n",
      "Epoch  44/200, train loss: 1.27e-02, accuracy: 83.34%\n",
      "Epoch  44/200, val loss: 1.36e-02, accuracy: 75.72%\n",
      "Epoch  45/200, train loss: 1.28e-02, accuracy: 83.14%\n",
      "Epoch  45/200, val loss: 1.33e-02, accuracy: 79.80%\n",
      "Epoch  46/200, train loss: 1.28e-02, accuracy: 83.20%\n",
      "Epoch  46/200, val loss: 1.31e-02, accuracy: 82.66%\n",
      "Epoch  47/200, train loss: 1.27e-02, accuracy: 83.14%\n",
      "Epoch  47/200, val loss: 1.33e-02, accuracy: 79.96%\n",
      "Epoch  48/200, train loss: 1.27e-02, accuracy: 83.73%\n",
      "Epoch  48/200, val loss: 1.33e-02, accuracy: 80.36%\n",
      "Epoch  49/200, train loss: 1.27e-02, accuracy: 83.65%\n",
      "Epoch  49/200, val loss: 1.35e-02, accuracy: 77.04%\n",
      "Epoch  50/200, train loss: 1.27e-02, accuracy: 83.67%\n",
      "Epoch  50/200, val loss: 1.33e-02, accuracy: 80.16%\n",
      "Epoch  51/200, train loss: 1.27e-02, accuracy: 84.01%\n",
      "Epoch  51/200, val loss: 1.36e-02, accuracy: 76.82%\n",
      "Epoch  52/200, train loss: 1.27e-02, accuracy: 84.08%\n",
      "Epoch  52/200, val loss: 1.35e-02, accuracy: 77.32%\n",
      "Epoch  53/200, train loss: 1.27e-02, accuracy: 84.11%\n",
      "Epoch  53/200, val loss: 1.31e-02, accuracy: 82.64%\n",
      "Epoch  54/200, train loss: 1.27e-02, accuracy: 84.28%\n",
      "Epoch  54/200, val loss: 1.33e-02, accuracy: 80.80%\n",
      "Epoch  55/200, train loss: 1.27e-02, accuracy: 84.04%\n",
      "Epoch  55/200, val loss: 1.32e-02, accuracy: 80.70%\n",
      "Epoch  56/200, train loss: 1.27e-02, accuracy: 84.42%\n",
      "Epoch  56/200, val loss: 1.36e-02, accuracy: 75.34%\n",
      "Epoch  57/200, train loss: 1.27e-02, accuracy: 84.30%\n",
      "Epoch  57/200, val loss: 1.33e-02, accuracy: 79.64%\n",
      "Epoch  58/200, train loss: 1.27e-02, accuracy: 84.44%\n",
      "Epoch  58/200, val loss: 1.30e-02, accuracy: 83.44%\n",
      "Epoch  59/200, train loss: 1.27e-02, accuracy: 84.02%\n",
      "Epoch  59/200, val loss: 1.36e-02, accuracy: 75.42%\n",
      "Epoch  60/200, train loss: 1.27e-02, accuracy: 84.46%\n",
      "Epoch  60/200, val loss: 1.31e-02, accuracy: 83.32%\n",
      "Epoch  61/200, train loss: 1.27e-02, accuracy: 84.36%\n",
      "Epoch  61/200, val loss: 1.32e-02, accuracy: 81.18%\n",
      "Epoch  62/200, train loss: 1.26e-02, accuracy: 84.95%\n",
      "Epoch  62/200, val loss: 1.31e-02, accuracy: 82.76%\n",
      "Epoch  63/200, train loss: 1.26e-02, accuracy: 85.01%\n",
      "Epoch  63/200, val loss: 1.35e-02, accuracy: 76.98%\n",
      "Epoch  64/200, train loss: 1.26e-02, accuracy: 85.00%\n",
      "Epoch  64/200, val loss: 1.34e-02, accuracy: 79.24%\n",
      "Epoch  65/200, train loss: 1.26e-02, accuracy: 84.72%\n",
      "Epoch  65/200, val loss: 1.32e-02, accuracy: 81.98%\n",
      "Epoch  66/200, train loss: 1.26e-02, accuracy: 85.15%\n",
      "Epoch  66/200, val loss: 1.31e-02, accuracy: 83.48%\n",
      "Epoch  67/200, train loss: 1.26e-02, accuracy: 85.25%\n",
      "Epoch  67/200, val loss: 1.31e-02, accuracy: 82.86%\n",
      "Epoch  68/200, train loss: 1.26e-02, accuracy: 84.93%\n",
      "Epoch  68/200, val loss: 1.33e-02, accuracy: 80.86%\n",
      "Epoch  69/200, train loss: 1.26e-02, accuracy: 85.03%\n",
      "Epoch  69/200, val loss: 1.31e-02, accuracy: 82.26%\n",
      "Epoch  70/200, train loss: 1.26e-02, accuracy: 85.57%\n",
      "Epoch  70/200, val loss: 1.31e-02, accuracy: 83.22%\n",
      "Epoch  71/200, train loss: 1.26e-02, accuracy: 85.34%\n",
      "Epoch  71/200, val loss: 1.31e-02, accuracy: 82.70%\n",
      "Epoch  72/200, train loss: 1.26e-02, accuracy: 85.13%\n",
      "Epoch  72/200, val loss: 1.32e-02, accuracy: 81.10%\n",
      "Epoch  73/200, train loss: 1.26e-02, accuracy: 85.08%\n",
      "Epoch  73/200, val loss: 1.32e-02, accuracy: 81.72%\n",
      "Epoch  74/200, train loss: 1.26e-02, accuracy: 85.76%\n",
      "Epoch  74/200, val loss: 1.33e-02, accuracy: 80.84%\n",
      "Epoch  75/200, train loss: 1.26e-02, accuracy: 85.49%\n",
      "Epoch  75/200, val loss: 1.31e-02, accuracy: 82.90%\n",
      "Epoch  76/200, train loss: 1.26e-02, accuracy: 85.35%\n",
      "Epoch  76/200, val loss: 1.34e-02, accuracy: 79.48%\n",
      "Epoch  77/200, train loss: 1.26e-02, accuracy: 85.63%\n",
      "Epoch  77/200, val loss: 1.31e-02, accuracy: 82.80%\n",
      "Epoch  78/200, train loss: 1.25e-02, accuracy: 85.89%\n",
      "Epoch  78/200, val loss: 1.31e-02, accuracy: 81.82%\n",
      "Epoch  79/200, train loss: 1.25e-02, accuracy: 85.94%\n",
      "Epoch  79/200, val loss: 1.31e-02, accuracy: 82.16%\n",
      "Epoch  80/200, train loss: 1.26e-02, accuracy: 85.69%\n",
      "Epoch  80/200, val loss: 1.33e-02, accuracy: 81.10%\n",
      "Epoch  81/200, train loss: 1.25e-02, accuracy: 86.01%\n",
      "Epoch  81/200, val loss: 1.32e-02, accuracy: 81.76%\n",
      "Epoch  82/200, train loss: 1.25e-02, accuracy: 85.88%\n",
      "Epoch  82/200, val loss: 1.31e-02, accuracy: 83.00%\n",
      "Epoch  83/200, train loss: 1.26e-02, accuracy: 85.76%\n",
      "Epoch  83/200, val loss: 1.32e-02, accuracy: 81.00%\n",
      "Epoch  84/200, train loss: 1.25e-02, accuracy: 85.95%\n",
      "Epoch  84/200, val loss: 1.33e-02, accuracy: 79.78%\n",
      "Epoch  85/200, train loss: 1.26e-02, accuracy: 85.79%\n",
      "Epoch  85/200, val loss: 1.30e-02, accuracy: 83.50%\n",
      "Epoch  86/200, train loss: 1.25e-02, accuracy: 85.82%\n",
      "Epoch  86/200, val loss: 1.32e-02, accuracy: 81.14%\n",
      "Epoch  87/200, train loss: 1.25e-02, accuracy: 86.06%\n",
      "Epoch  87/200, val loss: 1.33e-02, accuracy: 80.90%\n",
      "Epoch  88/200, train loss: 1.25e-02, accuracy: 86.37%\n",
      "Epoch  88/200, val loss: 1.31e-02, accuracy: 82.98%\n",
      "Epoch  89/200, train loss: 1.25e-02, accuracy: 85.98%\n",
      "Epoch  89/200, val loss: 1.31e-02, accuracy: 82.40%\n",
      "Epoch  90/200, train loss: 1.25e-02, accuracy: 86.24%\n",
      "Epoch  90/200, val loss: 1.29e-02, accuracy: 84.68%\n",
      "Epoch  91/200, train loss: 1.25e-02, accuracy: 86.38%\n",
      "Epoch  91/200, val loss: 1.30e-02, accuracy: 83.80%\n",
      "Epoch  92/200, train loss: 1.25e-02, accuracy: 86.27%\n",
      "Epoch  92/200, val loss: 1.31e-02, accuracy: 82.22%\n",
      "Epoch  93/200, train loss: 1.25e-02, accuracy: 86.35%\n",
      "Epoch  93/200, val loss: 1.35e-02, accuracy: 77.92%\n",
      "Epoch  94/200, train loss: 1.25e-02, accuracy: 86.10%\n",
      "Epoch  94/200, val loss: 1.30e-02, accuracy: 83.44%\n",
      "Epoch  95/200, train loss: 1.25e-02, accuracy: 86.52%\n",
      "Epoch  95/200, val loss: 1.31e-02, accuracy: 83.14%\n",
      "Epoch  96/200, train loss: 1.25e-02, accuracy: 86.53%\n",
      "Epoch  96/200, val loss: 1.32e-02, accuracy: 82.30%\n",
      "Epoch  97/200, train loss: 1.25e-02, accuracy: 86.18%\n",
      "Epoch  97/200, val loss: 1.30e-02, accuracy: 84.06%\n",
      "Epoch  98/200, train loss: 1.25e-02, accuracy: 86.31%\n",
      "Epoch  98/200, val loss: 1.31e-02, accuracy: 82.82%\n",
      "Epoch  99/200, train loss: 1.25e-02, accuracy: 86.36%\n",
      "Epoch  99/200, val loss: 1.36e-02, accuracy: 76.56%\n",
      "Epoch 100/200, train loss: 1.25e-02, accuracy: 86.30%\n",
      "Epoch 100/200, val loss: 1.31e-02, accuracy: 83.08%\n",
      "Epoch 101/200, train loss: 1.23e-02, accuracy: 89.57%\n",
      "Epoch 101/200, val loss: 1.26e-02, accuracy: 88.56%\n",
      "Epoch 102/200, train loss: 1.21e-02, accuracy: 91.21%\n",
      "Epoch 102/200, val loss: 1.26e-02, accuracy: 89.02%\n",
      "Epoch 103/200, train loss: 1.21e-02, accuracy: 91.58%\n",
      "Epoch 103/200, val loss: 1.26e-02, accuracy: 89.22%\n",
      "Epoch 104/200, train loss: 1.21e-02, accuracy: 91.89%\n",
      "Epoch 104/200, val loss: 1.26e-02, accuracy: 89.26%\n",
      "Epoch 105/200, train loss: 1.21e-02, accuracy: 92.14%\n",
      "Epoch 105/200, val loss: 1.26e-02, accuracy: 89.34%\n",
      "Epoch 106/200, train loss: 1.20e-02, accuracy: 92.40%\n",
      "Epoch 106/200, val loss: 1.26e-02, accuracy: 89.88%\n",
      "Epoch 107/200, train loss: 1.20e-02, accuracy: 92.68%\n",
      "Epoch 107/200, val loss: 1.26e-02, accuracy: 89.72%\n",
      "Epoch 108/200, train loss: 1.20e-02, accuracy: 92.80%\n",
      "Epoch 108/200, val loss: 1.25e-02, accuracy: 90.30%\n",
      "Epoch 109/200, train loss: 1.20e-02, accuracy: 93.03%\n",
      "Epoch 109/200, val loss: 1.25e-02, accuracy: 90.10%\n",
      "Epoch 110/200, train loss: 1.20e-02, accuracy: 92.89%\n",
      "Epoch 110/200, val loss: 1.25e-02, accuracy: 90.20%\n",
      "Epoch 111/200, train loss: 1.20e-02, accuracy: 93.28%\n",
      "Epoch 111/200, val loss: 1.25e-02, accuracy: 90.70%\n",
      "Epoch 112/200, train loss: 1.20e-02, accuracy: 93.26%\n",
      "Epoch 112/200, val loss: 1.25e-02, accuracy: 90.30%\n",
      "Epoch 113/200, train loss: 1.20e-02, accuracy: 93.26%\n",
      "Epoch 113/200, val loss: 1.25e-02, accuracy: 89.98%\n",
      "Epoch 114/200, train loss: 1.20e-02, accuracy: 93.51%\n",
      "Epoch 114/200, val loss: 1.25e-02, accuracy: 90.02%\n",
      "Epoch 115/200, train loss: 1.19e-02, accuracy: 93.62%\n",
      "Epoch 115/200, val loss: 1.25e-02, accuracy: 90.18%\n",
      "Epoch 116/200, train loss: 1.19e-02, accuracy: 93.72%\n",
      "Epoch 116/200, val loss: 1.25e-02, accuracy: 90.40%\n",
      "Epoch 117/200, train loss: 1.19e-02, accuracy: 93.71%\n",
      "Epoch 117/200, val loss: 1.25e-02, accuracy: 90.42%\n",
      "Epoch 118/200, train loss: 1.19e-02, accuracy: 93.74%\n",
      "Epoch 118/200, val loss: 1.25e-02, accuracy: 90.24%\n",
      "Epoch 119/200, train loss: 1.19e-02, accuracy: 93.82%\n",
      "Epoch 119/200, val loss: 1.25e-02, accuracy: 90.66%\n",
      "Epoch 120/200, train loss: 1.19e-02, accuracy: 93.94%\n",
      "Epoch 120/200, val loss: 1.25e-02, accuracy: 90.00%\n",
      "Epoch 121/200, train loss: 1.19e-02, accuracy: 94.10%\n",
      "Epoch 121/200, val loss: 1.25e-02, accuracy: 89.98%\n",
      "Epoch 122/200, train loss: 1.19e-02, accuracy: 94.19%\n",
      "Epoch 122/200, val loss: 1.25e-02, accuracy: 90.54%\n",
      "Epoch 123/200, train loss: 1.19e-02, accuracy: 94.28%\n",
      "Epoch 123/200, val loss: 1.25e-02, accuracy: 90.54%\n",
      "Epoch 124/200, train loss: 1.19e-02, accuracy: 94.32%\n",
      "Epoch 124/200, val loss: 1.25e-02, accuracy: 90.82%\n",
      "Epoch 125/200, train loss: 1.19e-02, accuracy: 94.41%\n",
      "Epoch 125/200, val loss: 1.25e-02, accuracy: 90.68%\n",
      "Epoch 126/200, train loss: 1.19e-02, accuracy: 94.29%\n",
      "Epoch 126/200, val loss: 1.25e-02, accuracy: 90.76%\n",
      "Epoch 127/200, train loss: 1.19e-02, accuracy: 94.55%\n",
      "Epoch 127/200, val loss: 1.25e-02, accuracy: 90.78%\n",
      "Epoch 128/200, train loss: 1.19e-02, accuracy: 94.63%\n",
      "Epoch 128/200, val loss: 1.25e-02, accuracy: 90.72%\n",
      "Epoch 129/200, train loss: 1.19e-02, accuracy: 94.62%\n",
      "Epoch 129/200, val loss: 1.25e-02, accuracy: 90.80%\n",
      "Epoch 130/200, train loss: 1.19e-02, accuracy: 94.60%\n",
      "Epoch 130/200, val loss: 1.25e-02, accuracy: 90.52%\n",
      "Epoch 131/200, train loss: 1.19e-02, accuracy: 94.81%\n",
      "Epoch 131/200, val loss: 1.25e-02, accuracy: 90.92%\n",
      "Epoch 132/200, train loss: 1.19e-02, accuracy: 94.75%\n",
      "Epoch 132/200, val loss: 1.25e-02, accuracy: 90.98%\n",
      "Epoch 133/200, train loss: 1.19e-02, accuracy: 94.83%\n",
      "Epoch 133/200, val loss: 1.25e-02, accuracy: 91.02%\n",
      "Epoch 134/200, train loss: 1.18e-02, accuracy: 94.91%\n",
      "Epoch 134/200, val loss: 1.25e-02, accuracy: 90.96%\n",
      "Epoch 135/200, train loss: 1.19e-02, accuracy: 94.83%\n",
      "Epoch 135/200, val loss: 1.25e-02, accuracy: 90.82%\n",
      "Epoch 136/200, train loss: 1.18e-02, accuracy: 94.98%\n",
      "Epoch 136/200, val loss: 1.25e-02, accuracy: 90.82%\n",
      "Epoch 137/200, train loss: 1.18e-02, accuracy: 95.07%\n",
      "Epoch 137/200, val loss: 1.25e-02, accuracy: 90.86%\n",
      "Epoch 138/200, train loss: 1.18e-02, accuracy: 95.10%\n",
      "Epoch 138/200, val loss: 1.25e-02, accuracy: 90.66%\n",
      "Epoch 139/200, train loss: 1.18e-02, accuracy: 95.25%\n",
      "Epoch 139/200, val loss: 1.25e-02, accuracy: 90.92%\n",
      "Epoch 140/200, train loss: 1.18e-02, accuracy: 95.32%\n",
      "Epoch 140/200, val loss: 1.24e-02, accuracy: 91.10%\n",
      "Epoch 141/200, train loss: 1.18e-02, accuracy: 95.36%\n",
      "Epoch 141/200, val loss: 1.25e-02, accuracy: 90.70%\n",
      "Epoch 142/200, train loss: 1.18e-02, accuracy: 95.17%\n",
      "Epoch 142/200, val loss: 1.25e-02, accuracy: 91.00%\n",
      "Epoch 143/200, train loss: 1.18e-02, accuracy: 95.37%\n",
      "Epoch 143/200, val loss: 1.25e-02, accuracy: 90.70%\n",
      "Epoch 144/200, train loss: 1.18e-02, accuracy: 95.29%\n",
      "Epoch 144/200, val loss: 1.25e-02, accuracy: 91.20%\n",
      "Epoch 145/200, train loss: 1.18e-02, accuracy: 95.38%\n",
      "Epoch 145/200, val loss: 1.25e-02, accuracy: 91.10%\n",
      "Epoch 146/200, train loss: 1.18e-02, accuracy: 95.52%\n",
      "Epoch 146/200, val loss: 1.25e-02, accuracy: 90.82%\n",
      "Epoch 147/200, train loss: 1.18e-02, accuracy: 95.45%\n",
      "Epoch 147/200, val loss: 1.25e-02, accuracy: 91.04%\n",
      "Epoch 148/200, train loss: 1.18e-02, accuracy: 95.60%\n",
      "Epoch 148/200, val loss: 1.25e-02, accuracy: 90.98%\n",
      "Epoch 149/200, train loss: 1.18e-02, accuracy: 95.59%\n",
      "Epoch 149/200, val loss: 1.25e-02, accuracy: 90.86%\n",
      "Epoch 150/200, train loss: 1.18e-02, accuracy: 95.62%\n",
      "Epoch 150/200, val loss: 1.25e-02, accuracy: 90.92%\n",
      "Epoch 151/200, train loss: 1.18e-02, accuracy: 95.91%\n",
      "Epoch 151/200, val loss: 1.24e-02, accuracy: 91.32%\n",
      "Epoch 152/200, train loss: 1.17e-02, accuracy: 96.14%\n",
      "Epoch 152/200, val loss: 1.24e-02, accuracy: 91.30%\n",
      "Epoch 153/200, train loss: 1.17e-02, accuracy: 96.28%\n",
      "Epoch 153/200, val loss: 1.24e-02, accuracy: 91.46%\n",
      "Epoch 154/200, train loss: 1.17e-02, accuracy: 96.25%\n",
      "Epoch 154/200, val loss: 1.24e-02, accuracy: 91.50%\n",
      "Epoch 155/200, train loss: 1.17e-02, accuracy: 96.30%\n",
      "Epoch 155/200, val loss: 1.24e-02, accuracy: 91.30%\n",
      "Epoch 156/200, train loss: 1.17e-02, accuracy: 96.32%\n",
      "Epoch 156/200, val loss: 1.24e-02, accuracy: 91.42%\n",
      "Epoch 157/200, train loss: 1.17e-02, accuracy: 96.34%\n",
      "Epoch 157/200, val loss: 1.24e-02, accuracy: 91.36%\n",
      "Epoch 158/200, train loss: 1.17e-02, accuracy: 96.29%\n",
      "Epoch 158/200, val loss: 1.24e-02, accuracy: 91.50%\n",
      "Epoch 159/200, train loss: 1.17e-02, accuracy: 96.39%\n",
      "Epoch 159/200, val loss: 1.24e-02, accuracy: 91.30%\n",
      "Epoch 160/200, train loss: 1.17e-02, accuracy: 96.33%\n",
      "Epoch 160/200, val loss: 1.24e-02, accuracy: 91.60%\n",
      "Epoch 161/200, train loss: 1.17e-02, accuracy: 96.45%\n",
      "Epoch 161/200, val loss: 1.24e-02, accuracy: 91.40%\n",
      "Epoch 162/200, train loss: 1.17e-02, accuracy: 96.40%\n",
      "Epoch 162/200, val loss: 1.24e-02, accuracy: 91.54%\n",
      "Epoch 163/200, train loss: 1.17e-02, accuracy: 96.47%\n",
      "Epoch 163/200, val loss: 1.24e-02, accuracy: 91.68%\n",
      "Epoch 164/200, train loss: 1.17e-02, accuracy: 96.48%\n",
      "Epoch 164/200, val loss: 1.24e-02, accuracy: 91.50%\n",
      "Epoch 165/200, train loss: 1.17e-02, accuracy: 96.41%\n",
      "Epoch 165/200, val loss: 1.24e-02, accuracy: 91.60%\n",
      "Epoch 166/200, train loss: 1.17e-02, accuracy: 96.38%\n",
      "Epoch 166/200, val loss: 1.24e-02, accuracy: 91.32%\n",
      "Epoch 167/200, train loss: 1.17e-02, accuracy: 96.41%\n",
      "Epoch 167/200, val loss: 1.24e-02, accuracy: 91.36%\n",
      "Epoch 168/200, train loss: 1.17e-02, accuracy: 96.46%\n",
      "Epoch 168/200, val loss: 1.24e-02, accuracy: 91.48%\n",
      "Epoch 169/200, train loss: 1.17e-02, accuracy: 96.48%\n",
      "Epoch 169/200, val loss: 1.24e-02, accuracy: 91.44%\n",
      "Epoch 170/200, train loss: 1.17e-02, accuracy: 96.55%\n",
      "Epoch 170/200, val loss: 1.24e-02, accuracy: 91.42%\n",
      "Epoch 171/200, train loss: 1.17e-02, accuracy: 96.46%\n",
      "Epoch 171/200, val loss: 1.24e-02, accuracy: 91.58%\n",
      "Epoch 172/200, train loss: 1.17e-02, accuracy: 96.58%\n",
      "Epoch 172/200, val loss: 1.24e-02, accuracy: 91.64%\n",
      "Epoch 173/200, train loss: 1.17e-02, accuracy: 96.61%\n",
      "Epoch 173/200, val loss: 1.24e-02, accuracy: 91.54%\n",
      "Epoch 174/200, train loss: 1.17e-02, accuracy: 96.67%\n",
      "Epoch 174/200, val loss: 1.24e-02, accuracy: 91.42%\n",
      "Epoch 175/200, train loss: 1.17e-02, accuracy: 96.68%\n",
      "Epoch 175/200, val loss: 1.24e-02, accuracy: 91.38%\n",
      "Epoch 176/200, train loss: 1.17e-02, accuracy: 96.55%\n",
      "Epoch 176/200, val loss: 1.24e-02, accuracy: 91.32%\n",
      "Epoch 177/200, train loss: 1.17e-02, accuracy: 96.50%\n",
      "Epoch 177/200, val loss: 1.24e-02, accuracy: 91.30%\n",
      "Epoch 178/200, train loss: 1.17e-02, accuracy: 96.68%\n",
      "Epoch 178/200, val loss: 1.24e-02, accuracy: 91.04%\n",
      "Epoch 179/200, train loss: 1.17e-02, accuracy: 96.57%\n",
      "Epoch 179/200, val loss: 1.24e-02, accuracy: 91.30%\n",
      "Epoch 180/200, train loss: 1.17e-02, accuracy: 96.59%\n",
      "Epoch 180/200, val loss: 1.24e-02, accuracy: 91.50%\n",
      "Epoch 181/200, train loss: 1.17e-02, accuracy: 96.66%\n",
      "Epoch 181/200, val loss: 1.24e-02, accuracy: 91.42%\n",
      "Epoch 182/200, train loss: 1.17e-02, accuracy: 96.70%\n",
      "Epoch 182/200, val loss: 1.24e-02, accuracy: 91.42%\n",
      "Epoch 183/200, train loss: 1.17e-02, accuracy: 96.66%\n",
      "Epoch 183/200, val loss: 1.24e-02, accuracy: 91.46%\n",
      "Epoch 184/200, train loss: 1.17e-02, accuracy: 96.63%\n",
      "Epoch 184/200, val loss: 1.24e-02, accuracy: 91.26%\n",
      "Epoch 185/200, train loss: 1.17e-02, accuracy: 96.69%\n",
      "Epoch 185/200, val loss: 1.24e-02, accuracy: 91.50%\n",
      "Epoch 186/200, train loss: 1.17e-02, accuracy: 96.68%\n",
      "Epoch 186/200, val loss: 1.24e-02, accuracy: 91.46%\n",
      "Epoch 187/200, train loss: 1.17e-02, accuracy: 96.71%\n",
      "Epoch 187/200, val loss: 1.24e-02, accuracy: 91.44%\n",
      "Epoch 188/200, train loss: 1.17e-02, accuracy: 96.72%\n",
      "Epoch 188/200, val loss: 1.24e-02, accuracy: 91.58%\n",
      "Epoch 189/200, train loss: 1.17e-02, accuracy: 96.64%\n",
      "Epoch 189/200, val loss: 1.24e-02, accuracy: 91.44%\n",
      "Epoch 190/200, train loss: 1.17e-02, accuracy: 96.78%\n",
      "Epoch 190/200, val loss: 1.24e-02, accuracy: 91.64%\n",
      "Epoch 191/200, train loss: 1.17e-02, accuracy: 96.75%\n",
      "Epoch 191/200, val loss: 1.24e-02, accuracy: 91.70%\n",
      "Epoch 192/200, train loss: 1.17e-02, accuracy: 96.70%\n",
      "Epoch 192/200, val loss: 1.24e-02, accuracy: 91.52%\n",
      "Epoch 193/200, train loss: 1.17e-02, accuracy: 96.68%\n",
      "Epoch 193/200, val loss: 1.24e-02, accuracy: 91.46%\n",
      "Epoch 194/200, train loss: 1.17e-02, accuracy: 96.64%\n",
      "Epoch 194/200, val loss: 1.24e-02, accuracy: 91.24%\n",
      "Epoch 195/200, train loss: 1.17e-02, accuracy: 96.79%\n",
      "Epoch 195/200, val loss: 1.24e-02, accuracy: 91.50%\n",
      "Epoch 196/200, train loss: 1.17e-02, accuracy: 96.70%\n",
      "Epoch 196/200, val loss: 1.24e-02, accuracy: 91.70%\n",
      "Epoch 197/200, train loss: 1.17e-02, accuracy: 96.77%\n",
      "Epoch 197/200, val loss: 1.24e-02, accuracy: 91.58%\n",
      "Epoch 198/200, train loss: 1.17e-02, accuracy: 96.76%\n",
      "Epoch 198/200, val loss: 1.24e-02, accuracy: 91.60%\n",
      "Epoch 199/200, train loss: 1.17e-02, accuracy: 96.75%\n",
      "Epoch 199/200, val loss: 1.24e-02, accuracy: 91.32%\n",
      "Epoch 200/200, train loss: 1.17e-02, accuracy: 96.75%\n",
      "Epoch 200/200, val loss: 1.24e-02, accuracy: 91.30%\n"
     ]
    }
   ],
   "source": [
    "optimizer = torch.optim.SGD(resnet.parameters(), lr=0.1, momentum=0.9, weight_decay=1e-4)\n",
    "lr_scheduler = torch.optim.lr_scheduler.MultiStepLR(optimizer, milestones=[100, 150], gamma=0.1)\n",
    "\n",
    "# Fit model\n",
    "fit(resnet, optimizer, lr_scheduler, dataloaders, max_epochs=200, patience=50)"
   ]
  },
  {
   "cell_type": "markdown",
   "metadata": {
    "colab_type": "text",
    "id": "twpNASshcT6P"
   },
   "source": [
    "Once the model is trained we run it on the test set to obtain our final accuracy.\n",
    "Note that we can only look at the test set once, everything else would lead to overfitting. So you _must_ ignore the test set while developing your model!"
   ]
  },
  {
   "cell_type": "code",
   "execution_count": 20,
   "metadata": {
    "colab": {
     "base_uri": "https://localhost:8080/",
     "height": 35
    },
    "colab_type": "code",
    "id": "nKZekzZ7cT6S",
    "outputId": "4da7e0d3-c9e5-4370-ae50-7da785265ba2"
   },
   "outputs": [
    {
     "name": "stdout",
     "output_type": "stream",
     "text": [
      "Test loss: 1.2e-02, accuracy: 91.17%\n"
     ]
    }
   ],
   "source": [
    "test_loss, test_acc = run_epoch(resnet, None, dataloaders['test'], train=False)\n",
    "print(f\"Test loss: {test_loss:.1e}, accuracy: {test_acc * 100:.2f}%\")"
   ]
  },
  {
   "cell_type": "markdown",
   "metadata": {
    "colab_type": "text",
    "id": "9j8vvMF5cT6V"
   },
   "source": [
    "That's almost what was reported in the paper (92.49%) and we didn't even train on the full training set."
   ]
  },
  {
   "cell_type": "markdown",
   "metadata": {
    "colab_type": "text",
    "id": "063FZkJTcT6W"
   },
   "source": [
    "# Optional task: Squeeze out all the juice!"
   ]
  },
  {
   "cell_type": "markdown",
   "metadata": {
    "colab_type": "text",
    "id": "b_GqqL8XcT6X"
   },
   "source": [
    "Can you do even better? Have a look at [A Recipe for Training Neural Networks](https://karpathy.github.io/2019/04/25/recipe/) and at the [EfficientNet architecture](https://ai.googleblog.com/2019/05/efficientnet-improving-accuracy-and.html) we discussed in the lecture. Play around with the possibilities PyTorch offers you and see how close you can get to the [state of the art on CIFAR-10](https://paperswithcode.com/sota/image-classification-on-cifar-10).\n",
    "\n",
    "Hint: You can use [Google Colab](https://colab.research.google.com/) to access some free GPUs for your experiments."
   ]
  },
  {
   "cell_type": "code",
   "execution_count": null,
   "metadata": {},
   "outputs": [],
   "source": []
  },
  {
   "cell_type": "code",
   "execution_count": null,
   "metadata": {},
   "outputs": [],
   "source": []
  },
  {
   "cell_type": "code",
   "execution_count": null,
   "metadata": {},
   "outputs": [],
   "source": []
  },
  {
   "cell_type": "code",
   "execution_count": null,
   "metadata": {},
   "outputs": [],
   "source": []
  },
  {
   "cell_type": "code",
   "execution_count": null,
   "metadata": {},
   "outputs": [],
   "source": []
  }
 ],
 "metadata": {
  "accelerator": "GPU",
  "colab": {
   "name": "exercise_10_notebook.ipynb",
   "provenance": []
  },
  "kernelspec": {
   "display_name": "Python 3",
   "language": "python",
   "name": "python3"
  },
  "language_info": {
   "codemirror_mode": {
    "name": "ipython",
    "version": 3
   },
   "file_extension": ".py",
   "mimetype": "text/x-python",
   "name": "python",
   "nbconvert_exporter": "python",
   "pygments_lexer": "ipython3",
   "version": "3.7.3"
  }
 },
 "nbformat": 4,
 "nbformat_minor": 1
}
