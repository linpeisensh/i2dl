{
 "cells": [
  {
   "cell_type": "code",
   "execution_count": 2,
   "metadata": {},
   "outputs": [],
   "source": [
    "import os\n",
    "from os.path import join as pjoin\n",
    "from scipy import misc\n",
    "from PIL import Image\n",
    "import dlib\n",
    "import cv2\n",
    "from imutils import face_utils\n",
    "import time\n",
    "import shutil"
   ]
  },
  {
   "cell_type": "code",
   "execution_count": 3,
   "metadata": {},
   "outputs": [],
   "source": [
    "root_folder = 'C:\\\\Users\\\\linpeisen\\\\AppData\\\\Local\\\\Packages\\\\CanonicalGroupLimited.UbuntuonWindows_79rhkp1fndgsc\\\\LocalState\\\\rootfs\\\\home\\\\linpeisen'\n",
    "os.chdir(root_folder)"
   ]
  },
  {
   "cell_type": "code",
   "execution_count": 6,
   "metadata": {},
   "outputs": [],
   "source": [
    "def hisEqulColor(img):  \n",
    "    ycrcb = cv2.cvtColor(img, cv2.COLOR_BGR2YCR_CB)  \n",
    "    channels = cv2.split(ycrcb)  \n",
    "    cv2.equalizeHist(channels[0], channels[0]) #equalizeHist(in,out)  \n",
    "    cv2.merge(channels, ycrcb)  \n",
    "    img_eq=cv2.cvtColor(ycrcb, cv2.COLOR_YCR_CB2BGR)  \n",
    "    return img_eq"
   ]
  },
  {
   "cell_type": "code",
   "execution_count": 7,
   "metadata": {},
   "outputs": [],
   "source": [
    "def load_data(data_dir,img_dir):  # data_dir是lfw数据集路径\n",
    "    count = 0\n",
    "    face_detect = dlib.get_frontal_face_detector()\n",
    "    new_dimension = (128,128)\n",
    "    # (32,32)\n",
    "    for guy in os.listdir(data_dir):  \n",
    "        person_dir = pjoin(data_dir, guy)  # lfw中文件夹的路径\n",
    "        for i in os.listdir(person_dir):\n",
    "            image_dir = pjoin(person_dir, i)  # lfw中每个文件夹中图片的路径\n",
    "            frame = cv2.imread(image_dir)  # 读取lfw中每个文件夹中的图片 \n",
    "            img = hisEqulColor(frame)\n",
    "            gray = cv2.cvtColor(img, cv2.COLOR_BGR2GRAY)\n",
    "            rects = face_detect(gray, 1)\n",
    "            cropped_face = None\n",
    "            for (i, rect) in enumerate(rects):\n",
    "                (x, y, w, h) = face_utils.rect_to_bb(rect)\n",
    "                cropped_face =  frame[y:y+h, x:x+w]\n",
    "            try:\n",
    "                if cropped_face is not None:\n",
    "                    resized_face = cv2.resize(cropped_face, new_dimension)\n",
    "                    path = img_dir + str(count) + '.jpg'\n",
    "                    cv2.imwrite(path, resized_face)\n",
    "                    count = count+1\n",
    "            except:\n",
    "                continue\n",
    "            \n",
    "        if count >= 500:\n",
    "            break\n",
    "  \n",
    "    return "
   ]
  },
  {
   "cell_type": "code",
   "execution_count": 8,
   "metadata": {},
   "outputs": [],
   "source": [
    "img_dir = 'trainingData0\\\\'  # 自己单独建的文件夹, 用于存放从lfw读取的图片\n",
    "data_dir = 'lfw_funneled'\n",
    "if (os.path.exists(img_dir) == False):\n",
    "    os.mkdir(img_dir)\n",
    "load_data(data_dir,img_dir)"
   ]
  },
  {
   "cell_type": "code",
   "execution_count": 8,
   "metadata": {},
   "outputs": [],
   "source": [
    "def HOGdata(video = 0,save_path= ''):\n",
    "    capture = cv2.VideoCapture(video)\n",
    "    num_faces = 0\n",
    "    new_dimension = (128, 128)\n",
    "    # (32,32)\n",
    "    face_detect = dlib.get_frontal_face_detector()\n",
    "    response, frame = capture.read()\n",
    "    while response:\n",
    "        img = hisEqulColor(frame)\n",
    "        gray = cv2.cvtColor(img, cv2.COLOR_BGR2GRAY)\n",
    "        rects = face_detect(gray, 1)\n",
    "        try:\n",
    "            for (i, rect) in enumerate(rects):\n",
    "                (x, y, w, h) = face_utils.rect_to_bb(rect)\n",
    "                cropped_face =  frame[y:y+h, x:x+w]\n",
    "                num_faces += 1\n",
    "                # resizing found face to new dimensions\n",
    "                resized_face = cv2.resize(cropped_face, new_dimension)\n",
    "\n",
    "            # Saving the training data\n",
    "                path = save_path + str(num_faces) + '.jpg'\n",
    "    #             cv2.imwrite(path, resized_face) original\n",
    "                cv2.imwrite(path, resized_face)\n",
    "        except:\n",
    "            response, frame = capture.read()\n",
    "            continue\n",
    "\n",
    "        if video == 0:\n",
    "            cv2.imshow('Video', frame)\n",
    "            if cv2.waitKey(1) & 0xFF == ord('q'):\n",
    "                break\n",
    "        response, frame = capture.read()\n",
    "\n",
    "    capture.release()\n",
    "    cv2.destroyAllWindows()\n",
    "\n",
    "    print ('Training data done')"
   ]
  },
  {
   "cell_type": "code",
   "execution_count": 10,
   "metadata": {},
   "outputs": [
    {
     "name": "stdout",
     "output_type": "stream",
     "text": [
      "Training data done\n"
     ]
    }
   ],
   "source": [
    "over_write = True\n",
    "folder = 'trainingData1'\n",
    "# if over_write:\n",
    "#     if (os.path.exists(folder) == True):\n",
    "#         shutil.rmtree(folder)   \n",
    "#         time.sleep(5)\n",
    "        \n",
    "if (os.path.exists(folder) == False):\n",
    "    os.mkdir(folder)\n",
    "HOGdata(video = 'test_video//original.mp4',save_path='{}/'.format(folder)) "
   ]
  }
 ],
 "metadata": {
  "kernelspec": {
   "display_name": "Python 3",
   "language": "python",
   "name": "python3"
  },
  "language_info": {
   "codemirror_mode": {
    "name": "ipython",
    "version": 3
   },
   "file_extension": ".py",
   "mimetype": "text/x-python",
   "name": "python",
   "nbconvert_exporter": "python",
   "pygments_lexer": "ipython3",
   "version": "3.6.10"
  }
 },
 "nbformat": 4,
 "nbformat_minor": 4
}
